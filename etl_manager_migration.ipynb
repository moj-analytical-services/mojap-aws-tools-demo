{
 "cells": [
  {
   "cell_type": "markdown",
   "metadata": {},
   "source": [
    "# ETL Manager Migration\n",
    "\n",
    "In this tutorial we are going to:\n",
    "1. set up a database using etl_manager schemas\n",
    "2. query that database\n",
    "3. Use our Converters to convert the old etl_manager schemas into our new ones\n",
    "4. redeploy the database using our new schemas\n",
    "5. query the database again to make sure all is gravy"
   ]
  },
  {
   "cell_type": "markdown",
   "metadata": {},
   "source": [
    "## Init / Basic setup"
   ]
  },
  {
   "cell_type": "code",
   "execution_count": 16,
   "metadata": {},
   "outputs": [],
   "source": [
    "import os\n",
    "import shutil\n",
    "import json\n",
    "\n",
    "import pandas as pd\n",
    "import awswrangler as wr\n",
    "\n",
    "import boto3\n",
    "from mojap_metadata import Metadata\n",
    "from mojap_metadata.converters.glue_converter import GlueConverter\n",
    "from mojap_metadata.converters.etl_manager_converter import EtlManagerConverter\n",
    "from etl_manager.meta import read_database_folder"
   ]
  },
  {
   "cell_type": "code",
   "execution_count": 2,
   "metadata": {},
   "outputs": [],
   "source": [
    "# setup your own testing area (set foldername = GH username)\n",
    "foldername = \"isichei\" # GH username"
   ]
  },
  {
   "cell_type": "code",
   "execution_count": 3,
   "metadata": {},
   "outputs": [
    {
     "name": "stdout",
     "output_type": "stream",
     "text": [
      "deleting objs\n"
     ]
    }
   ],
   "source": [
    "region = \"eu-west-1\"\n",
    "bucketname = \"alpha-everyone\"\n",
    "db_name = f\"aws_example_{foldername}\"\n",
    "db_base_path = f\"s3://{bucketname}/{foldername}/database\"\n",
    "s3_base_path = f\"s3://{bucketname}/{foldername}/\"\n",
    "if wr.s3.list_objects(s3_base_path):\n",
    "    print(\"deleting objs\")\n",
    "    wr.s3.delete_objects(s3_base_path)"
   ]
  },
  {
   "cell_type": "markdown",
   "metadata": {},
   "source": [
    "## 1. Create DB using etl_manager\n",
    "\n",
    "Define the database config and then the schemas for the 3 tables (`department`, `sales` and `employees`) these 3 tables can be found in the `data/` folder. \n",
    "\n",
    "Write them into a folder named `meta_data/` which is standard with projects that use `etl_manager`."
   ]
  },
  {
   "cell_type": "code",
   "execution_count": 4,
   "metadata": {},
   "outputs": [],
   "source": [
    "database = {\n",
    "    \"description\": \"Test database for etl_manager migration example\",\n",
    "    \"name\": db_name,\n",
    "    \"bucket\": bucketname,\n",
    "    \"base_folder\": db_base_path.replace(f\"s3://{bucketname}/\", \"\")\n",
    "}\n",
    "\n",
    "department = {\n",
    "    \"$schema\": \"https://raw.githubusercontent.com/moj-analytical-services/etl_manager/master/etl_manager/specs/table_schema.json\",\n",
    "    \"name\": \"department\",\n",
    "    \"description\": \"A lookup table for each department\",\n",
    "    \"data_format\": \"csv\",\n",
    "    \"columns\": [\n",
    "        {\n",
    "            \"name\": \"department_id\",\n",
    "            \"type\": \"int\",\n",
    "            \"description\": \"ID of the department\"\n",
    "        },\n",
    "        {\n",
    "            \"name\": \"department_name\",\n",
    "            \"type\": \"character\",\n",
    "            \"description\": \"Name of the department\"\n",
    "        }\n",
    "    ],\n",
    "    \"location\": \"department\"\n",
    "}\n",
    "\n",
    "sales = {\n",
    "    \"$schema\": \"https://raw.githubusercontent.com/moj-analytical-services/etl_manager/master/etl_manager/specs/table_schema.json\",\n",
    "    \"name\": \"sales\",\n",
    "    \"description\": \"quarterly sales of each employee\",\n",
    "    \"data_format\": \"csv\",\n",
    "    \"columns\": [\n",
    "        {\n",
    "            \"name\": \"employee_id\",\n",
    "            \"type\": \"int\",\n",
    "            \"description\": \"The employee number\"\n",
    "        },\n",
    "        {\n",
    "            \"name\": \"qtr\",\n",
    "            \"type\": \"int\",\n",
    "            \"description\": \"The quarter when the sales were made\"\n",
    "        },\n",
    "        {\n",
    "            \"name\": \"sales\",\n",
    "            \"type\": \"double\",\n",
    "            \"description\": \"The total number of sales the employee made that quarter\"\n",
    "        }\n",
    "    ],\n",
    "    \"location\": \"sales\"\n",
    "}\n",
    "\n",
    "employees = {\n",
    "    \"$schema\": \"https://raw.githubusercontent.com/moj-analytical-services/etl_manager/master/etl_manager/specs/table_schema.json\",\n",
    "    \"name\": \"employees\",\n",
    "    \"description\": \"A table of employees\",\n",
    "    \"data_format\": \"csv\",\n",
    "    \"columns\": [\n",
    "        {\n",
    "            \"name\": \"employee_id\",\n",
    "            \"type\": \"int\",\n",
    "            \"description\": \"The employee number\"\n",
    "        },\n",
    "        {\n",
    "            \"name\": \"sex\",\n",
    "            \"type\": \"character\",\n",
    "            \"description\": \"Sex of the employee\"\n",
    "        },\n",
    "        {\n",
    "            \"name\": \"forename\",\n",
    "            \"type\": \"character\",\n",
    "            \"description\": \"First name of the employee\"\n",
    "        },\n",
    "        {\n",
    "            \"name\": \"surname\",\n",
    "            \"type\": \"character\",\n",
    "            \"description\": \"Last name of the employee\"\n",
    "        },\n",
    "        {\n",
    "            \"name\": \"department_id\",\n",
    "            \"type\": \"int\",\n",
    "            \"description\": \"Department ID which the employee belongs to\"\n",
    "        },\n",
    "        {\n",
    "            \"name\": \"manager_id\",\n",
    "            \"type\": \"int\",\n",
    "            \"description\": \"The Employee number of the person who manages this employee\"\n",
    "        }\n",
    "    ],\n",
    "    \"location\": \"employees\"\n",
    "}"
   ]
  },
  {
   "cell_type": "markdown",
   "metadata": {},
   "source": [
    "Write each of these to a folder to mimic a standard etl_manager project"
   ]
  },
  {
   "cell_type": "code",
   "execution_count": 5,
   "metadata": {},
   "outputs": [],
   "source": [
    "meta_dir = 'meta_data'\n",
    "if os.path.exists(meta_dir):\n",
    "    shutil.rmtree(meta_dir)\n",
    "os.makedirs(meta_dir)\n",
    "\n",
    "for m in [department, sales, employees]:\n",
    "    with open(os.path.join(meta_dir, f\"{m['name']}.json\"), \"w\") as f:\n",
    "        json.dump(m, f)\n",
    "        \n",
    "with open(\"meta_data/database.json\", \"w\") as f:\n",
    "    json.dump(database, f)"
   ]
  },
  {
   "cell_type": "markdown",
   "metadata": {},
   "source": [
    "Now we have our etl_manager metadata schemas in a folder called `meta_data`"
   ]
  },
  {
   "cell_type": "code",
   "execution_count": 6,
   "metadata": {},
   "outputs": [
    {
     "data": {
      "text/plain": [
       "['sales.json', 'database.json', 'department.json', 'employees.json']"
      ]
     },
     "execution_count": 6,
     "metadata": {},
     "output_type": "execute_result"
    }
   ],
   "source": [
    "os.listdir(meta_dir)"
   ]
  },
  {
   "cell_type": "markdown",
   "metadata": {},
   "source": [
    "Upload the data to S3 (using wrangler) and then create a database (using etl_manager)"
   ]
  },
  {
   "cell_type": "code",
   "execution_count": 7,
   "metadata": {},
   "outputs": [],
   "source": [
    "db = read_database_folder(\"meta_data/\")\n",
    "\n",
    "for table_name in db.table_names:\n",
    "    df = pd.read_csv(f\"data/{table_name}.csv\")\n",
    "    tab = db.table(table_name)\n",
    "    tab_s3_path = os.path.join(\n",
    "        db.s3_database_path,\n",
    "        tab.location,\n",
    "        tab.name + \".csv\"\n",
    "    )\n",
    "    wr.s3.to_csv(df, tab_s3_path, index=False)"
   ]
  },
  {
   "cell_type": "code",
   "execution_count": 8,
   "metadata": {},
   "outputs": [],
   "source": [
    "db.create_glue_database(delete_if_exists=True)"
   ]
  },
  {
   "cell_type": "markdown",
   "metadata": {},
   "source": [
    "## 2. Query the database\n",
    "\n",
    "Using wrangler"
   ]
  },
  {
   "cell_type": "code",
   "execution_count": 9,
   "metadata": {},
   "outputs": [
    {
     "data": {
      "text/html": [
       "<div>\n",
       "<style scoped>\n",
       "    .dataframe tbody tr th:only-of-type {\n",
       "        vertical-align: middle;\n",
       "    }\n",
       "\n",
       "    .dataframe tbody tr th {\n",
       "        vertical-align: top;\n",
       "    }\n",
       "\n",
       "    .dataframe thead th {\n",
       "        text-align: right;\n",
       "    }\n",
       "</style>\n",
       "<table border=\"1\" class=\"dataframe\">\n",
       "  <thead>\n",
       "    <tr style=\"text-align: right;\">\n",
       "      <th></th>\n",
       "      <th>employee_id</th>\n",
       "      <th>sex</th>\n",
       "      <th>forename</th>\n",
       "      <th>surname</th>\n",
       "      <th>department_id</th>\n",
       "      <th>manager_id</th>\n",
       "    </tr>\n",
       "  </thead>\n",
       "  <tbody>\n",
       "    <tr>\n",
       "      <th>0</th>\n",
       "      <td>1</td>\n",
       "      <td>M</td>\n",
       "      <td>Dexter</td>\n",
       "      <td>Mitchell</td>\n",
       "      <td>1</td>\n",
       "      <td>17</td>\n",
       "    </tr>\n",
       "    <tr>\n",
       "      <th>1</th>\n",
       "      <td>2</td>\n",
       "      <td>F</td>\n",
       "      <td>Summer</td>\n",
       "      <td>Bennett</td>\n",
       "      <td>1</td>\n",
       "      <td>17</td>\n",
       "    </tr>\n",
       "    <tr>\n",
       "      <th>2</th>\n",
       "      <td>3</td>\n",
       "      <td>M</td>\n",
       "      <td>Pip</td>\n",
       "      <td>Carter</td>\n",
       "      <td>1</td>\n",
       "      <td>17</td>\n",
       "    </tr>\n",
       "    <tr>\n",
       "      <th>3</th>\n",
       "      <td>4</td>\n",
       "      <td>F</td>\n",
       "      <td>Bella</td>\n",
       "      <td>Long</td>\n",
       "      <td>1</td>\n",
       "      <td>17</td>\n",
       "    </tr>\n",
       "    <tr>\n",
       "      <th>4</th>\n",
       "      <td>5</td>\n",
       "      <td>F</td>\n",
       "      <td>Lexie</td>\n",
       "      <td>Perry</td>\n",
       "      <td>&lt;NA&gt;</td>\n",
       "      <td>17</td>\n",
       "    </tr>\n",
       "  </tbody>\n",
       "</table>\n",
       "</div>"
      ],
      "text/plain": [
       "   employee_id sex forename   surname  department_id  manager_id\n",
       "0            1   M   Dexter  Mitchell              1          17\n",
       "1            2   F   Summer   Bennett              1          17\n",
       "2            3   M      Pip    Carter              1          17\n",
       "3            4   F    Bella      Long              1          17\n",
       "4            5   F    Lexie     Perry           <NA>          17"
      ]
     },
     "execution_count": 9,
     "metadata": {},
     "output_type": "execute_result"
    }
   ],
   "source": [
    "# employees table\n",
    "wr.athena.read_sql_query(\n",
    "    f\"SELECT * FROM {db_name}.employees\",\n",
    "    database=db_name,\n",
    "    ctas_approach=False\n",
    ").head()"
   ]
  },
  {
   "cell_type": "code",
   "execution_count": 10,
   "metadata": {},
   "outputs": [
    {
     "data": {
      "text/html": [
       "<div>\n",
       "<style scoped>\n",
       "    .dataframe tbody tr th:only-of-type {\n",
       "        vertical-align: middle;\n",
       "    }\n",
       "\n",
       "    .dataframe tbody tr th {\n",
       "        vertical-align: top;\n",
       "    }\n",
       "\n",
       "    .dataframe thead th {\n",
       "        text-align: right;\n",
       "    }\n",
       "</style>\n",
       "<table border=\"1\" class=\"dataframe\">\n",
       "  <thead>\n",
       "    <tr style=\"text-align: right;\">\n",
       "      <th></th>\n",
       "      <th>employee_id</th>\n",
       "      <th>qtr</th>\n",
       "      <th>sales</th>\n",
       "    </tr>\n",
       "  </thead>\n",
       "  <tbody>\n",
       "    <tr>\n",
       "      <th>0</th>\n",
       "      <td>1</td>\n",
       "      <td>1</td>\n",
       "      <td>768.17</td>\n",
       "    </tr>\n",
       "    <tr>\n",
       "      <th>1</th>\n",
       "      <td>2</td>\n",
       "      <td>1</td>\n",
       "      <td>391.98</td>\n",
       "    </tr>\n",
       "    <tr>\n",
       "      <th>2</th>\n",
       "      <td>3</td>\n",
       "      <td>1</td>\n",
       "      <td>406.36</td>\n",
       "    </tr>\n",
       "    <tr>\n",
       "      <th>3</th>\n",
       "      <td>4</td>\n",
       "      <td>1</td>\n",
       "      <td>816.25</td>\n",
       "    </tr>\n",
       "    <tr>\n",
       "      <th>4</th>\n",
       "      <td>5</td>\n",
       "      <td>1</td>\n",
       "      <td>437.05</td>\n",
       "    </tr>\n",
       "  </tbody>\n",
       "</table>\n",
       "</div>"
      ],
      "text/plain": [
       "   employee_id  qtr   sales\n",
       "0            1    1  768.17\n",
       "1            2    1  391.98\n",
       "2            3    1  406.36\n",
       "3            4    1  816.25\n",
       "4            5    1  437.05"
      ]
     },
     "execution_count": 10,
     "metadata": {},
     "output_type": "execute_result"
    }
   ],
   "source": [
    "# sales table\n",
    "wr.athena.read_sql_query(\n",
    "    f\"SELECT * FROM {db_name}.sales\",\n",
    "    database=db_name,\n",
    "    ctas_approach=False\n",
    ").head()"
   ]
  },
  {
   "cell_type": "code",
   "execution_count": 28,
   "metadata": {},
   "outputs": [
    {
     "data": {
      "text/html": [
       "<div>\n",
       "<style scoped>\n",
       "    .dataframe tbody tr th:only-of-type {\n",
       "        vertical-align: middle;\n",
       "    }\n",
       "\n",
       "    .dataframe tbody tr th {\n",
       "        vertical-align: top;\n",
       "    }\n",
       "\n",
       "    .dataframe thead th {\n",
       "        text-align: right;\n",
       "    }\n",
       "</style>\n",
       "<table border=\"1\" class=\"dataframe\">\n",
       "  <thead>\n",
       "    <tr style=\"text-align: right;\">\n",
       "      <th></th>\n",
       "      <th>department_id</th>\n",
       "      <th>department_name</th>\n",
       "    </tr>\n",
       "  </thead>\n",
       "  <tbody>\n",
       "    <tr>\n",
       "      <th>0</th>\n",
       "      <td>1</td>\n",
       "      <td>Sales</td>\n",
       "    </tr>\n",
       "    <tr>\n",
       "      <th>1</th>\n",
       "      <td>2</td>\n",
       "      <td>Admin</td>\n",
       "    </tr>\n",
       "    <tr>\n",
       "      <th>2</th>\n",
       "      <td>3</td>\n",
       "      <td>Management</td>\n",
       "    </tr>\n",
       "    <tr>\n",
       "      <th>3</th>\n",
       "      <td>4</td>\n",
       "      <td>Technical</td>\n",
       "    </tr>\n",
       "    <tr>\n",
       "      <th>4</th>\n",
       "      <td>5</td>\n",
       "      <td>Maintenance</td>\n",
       "    </tr>\n",
       "  </tbody>\n",
       "</table>\n",
       "</div>"
      ],
      "text/plain": [
       "   department_id department_name\n",
       "0              1           Sales\n",
       "1              2           Admin\n",
       "2              3      Management\n",
       "3              4       Technical\n",
       "4              5     Maintenance"
      ]
     },
     "execution_count": 28,
     "metadata": {},
     "output_type": "execute_result"
    }
   ],
   "source": [
    "# department table\n",
    "wr.athena.read_sql_query(\n",
    "    f\"SELECT * FROM {db_name}.department\",\n",
    "    database=db_name,\n",
    "    ctas_approach=False\n",
    ").head()"
   ]
  },
  {
   "cell_type": "markdown",
   "metadata": {},
   "source": [
    "## 3. Convert etl_manager schemas into our new schemas\n",
    "\n",
    "Use our `EtlManagerConverter` to convert the old schemas into new `Metadata` schemas and write the new schemas to a new folder."
   ]
  },
  {
   "cell_type": "code",
   "execution_count": 12,
   "metadata": {},
   "outputs": [],
   "source": [
    "new_meta_dir = 'metadata_schemas'\n",
    "if os.path.exists(new_meta_dir):\n",
    "    shutil.rmtree(new_meta_dir)\n",
    "os.makedirs(new_meta_dir)\n",
    "\n",
    "emc = EtlManagerConverter()\n",
    "\n",
    "for table_name in db.table_names:\n",
    "    table_meta = emc.generate_to_meta(db.table(table_name))\n",
    "    table_meta.to_json(f\"{new_meta_dir}/{table_name}.json\")"
   ]
  },
  {
   "cell_type": "code",
   "execution_count": 13,
   "metadata": {},
   "outputs": [
    {
     "data": {
      "text/plain": [
       "{'name': 'department',\n",
       " 'description': 'A lookup table for each department',\n",
       " 'location': 'department',\n",
       " 'file_format': 'csv',\n",
       " 'columns': [{'name': 'department_id',\n",
       "   'type': 'int32',\n",
       "   'description': 'ID of the department'},\n",
       "  {'name': 'department_name',\n",
       "   'type': 'string',\n",
       "   'description': 'Name of the department'}],\n",
       " '_converted_from': 'etl_manager',\n",
       " '$schema': '',\n",
       " 'sensitive': False,\n",
       " 'primary_key': [],\n",
       " 'partitions': []}"
      ]
     },
     "execution_count": 13,
     "metadata": {},
     "output_type": "execute_result"
    }
   ],
   "source": [
    "# lets take a look at one of the new schemas\n",
    "table_meta.to_dict()"
   ]
  },
  {
   "cell_type": "markdown",
   "metadata": {},
   "source": [
    "## 4. redeploy the database using our new schemas\n",
    "\n",
    "First we need to delete the table schemas (using `aws-wrangler`) then recreate the schemas using our new metadata and the (`GlueConverter` and `boto3` glue client)."
   ]
  },
  {
   "cell_type": "code",
   "execution_count": 30,
   "metadata": {},
   "outputs": [
    {
     "name": "stdout",
     "output_type": "stream",
     "text": [
      "Table employees deleted\n",
      "Table department deleted\n",
      "Table sales deleted\n"
     ]
    }
   ],
   "source": [
    "# Delete tables\n",
    "for t in [\"employees\", \"department\", \"sales\"]:\n",
    "    dropped = wr.catalog.delete_table_if_exists(database = db_name, table=t)\n",
    "    if dropped:\n",
    "        print(f\"Table {t} deleted\")"
   ]
  },
  {
   "cell_type": "code",
   "execution_count": 31,
   "metadata": {},
   "outputs": [
    {
     "name": "stdout",
     "output_type": "stream",
     "text": [
      "sales\n",
      "department\n",
      "employees\n"
     ]
    }
   ],
   "source": [
    "glue_client = boto3.client(\"glue\")\n",
    "\n",
    "new_meta_dir = 'metadata_schemas'\n",
    "\n",
    "gc = GlueConverter()\n",
    "\n",
    "# set db name and base path so we don't have to set it everytime\n",
    "gc.options.default_db_name = db_name \n",
    "gc.options.default_db_base_path = db_base_path\n",
    "\n",
    "for fn in os.listdir(new_meta_dir):\n",
    "    meta = Metadata.from_json(f\"{new_meta_dir}/{fn}\")\n",
    "    boto_dict = gc.generate_from_meta(meta)\n",
    "    glue_client.create_table(**boto_dict)"
   ]
  },
  {
   "cell_type": "markdown",
   "metadata": {},
   "source": [
    "## 5. query the database again to make sure all is gravy"
   ]
  },
  {
   "cell_type": "code",
   "execution_count": 33,
   "metadata": {},
   "outputs": [
    {
     "data": {
      "text/html": [
       "<div>\n",
       "<style scoped>\n",
       "    .dataframe tbody tr th:only-of-type {\n",
       "        vertical-align: middle;\n",
       "    }\n",
       "\n",
       "    .dataframe tbody tr th {\n",
       "        vertical-align: top;\n",
       "    }\n",
       "\n",
       "    .dataframe thead th {\n",
       "        text-align: right;\n",
       "    }\n",
       "</style>\n",
       "<table border=\"1\" class=\"dataframe\">\n",
       "  <thead>\n",
       "    <tr style=\"text-align: right;\">\n",
       "      <th></th>\n",
       "      <th>employee_id</th>\n",
       "      <th>sex</th>\n",
       "      <th>forename</th>\n",
       "      <th>surname</th>\n",
       "      <th>department_id</th>\n",
       "      <th>manager_id</th>\n",
       "    </tr>\n",
       "  </thead>\n",
       "  <tbody>\n",
       "    <tr>\n",
       "      <th>0</th>\n",
       "      <td>1</td>\n",
       "      <td>M</td>\n",
       "      <td>Dexter</td>\n",
       "      <td>Mitchell</td>\n",
       "      <td>1</td>\n",
       "      <td>17</td>\n",
       "    </tr>\n",
       "    <tr>\n",
       "      <th>1</th>\n",
       "      <td>2</td>\n",
       "      <td>F</td>\n",
       "      <td>Summer</td>\n",
       "      <td>Bennett</td>\n",
       "      <td>1</td>\n",
       "      <td>17</td>\n",
       "    </tr>\n",
       "    <tr>\n",
       "      <th>2</th>\n",
       "      <td>3</td>\n",
       "      <td>M</td>\n",
       "      <td>Pip</td>\n",
       "      <td>Carter</td>\n",
       "      <td>1</td>\n",
       "      <td>17</td>\n",
       "    </tr>\n",
       "    <tr>\n",
       "      <th>3</th>\n",
       "      <td>4</td>\n",
       "      <td>F</td>\n",
       "      <td>Bella</td>\n",
       "      <td>Long</td>\n",
       "      <td>1</td>\n",
       "      <td>17</td>\n",
       "    </tr>\n",
       "    <tr>\n",
       "      <th>4</th>\n",
       "      <td>5</td>\n",
       "      <td>F</td>\n",
       "      <td>Lexie</td>\n",
       "      <td>Perry</td>\n",
       "      <td>&lt;NA&gt;</td>\n",
       "      <td>17</td>\n",
       "    </tr>\n",
       "  </tbody>\n",
       "</table>\n",
       "</div>"
      ],
      "text/plain": [
       "   employee_id sex forename   surname  department_id  manager_id\n",
       "0            1   M   Dexter  Mitchell              1          17\n",
       "1            2   F   Summer   Bennett              1          17\n",
       "2            3   M      Pip    Carter              1          17\n",
       "3            4   F    Bella      Long              1          17\n",
       "4            5   F    Lexie     Perry           <NA>          17"
      ]
     },
     "execution_count": 33,
     "metadata": {},
     "output_type": "execute_result"
    }
   ],
   "source": [
    "# employees table\n",
    "wr.athena.read_sql_query(\n",
    "    f\"SELECT * FROM {db_name}.employees\",\n",
    "    database=db_name,\n",
    "    ctas_approach=False\n",
    ").head()"
   ]
  },
  {
   "cell_type": "code",
   "execution_count": 34,
   "metadata": {},
   "outputs": [
    {
     "data": {
      "text/html": [
       "<div>\n",
       "<style scoped>\n",
       "    .dataframe tbody tr th:only-of-type {\n",
       "        vertical-align: middle;\n",
       "    }\n",
       "\n",
       "    .dataframe tbody tr th {\n",
       "        vertical-align: top;\n",
       "    }\n",
       "\n",
       "    .dataframe thead th {\n",
       "        text-align: right;\n",
       "    }\n",
       "</style>\n",
       "<table border=\"1\" class=\"dataframe\">\n",
       "  <thead>\n",
       "    <tr style=\"text-align: right;\">\n",
       "      <th></th>\n",
       "      <th>employee_id</th>\n",
       "      <th>qtr</th>\n",
       "      <th>sales</th>\n",
       "    </tr>\n",
       "  </thead>\n",
       "  <tbody>\n",
       "    <tr>\n",
       "      <th>0</th>\n",
       "      <td>1</td>\n",
       "      <td>1</td>\n",
       "      <td>768.17</td>\n",
       "    </tr>\n",
       "    <tr>\n",
       "      <th>1</th>\n",
       "      <td>2</td>\n",
       "      <td>1</td>\n",
       "      <td>391.98</td>\n",
       "    </tr>\n",
       "    <tr>\n",
       "      <th>2</th>\n",
       "      <td>3</td>\n",
       "      <td>1</td>\n",
       "      <td>406.36</td>\n",
       "    </tr>\n",
       "    <tr>\n",
       "      <th>3</th>\n",
       "      <td>4</td>\n",
       "      <td>1</td>\n",
       "      <td>816.25</td>\n",
       "    </tr>\n",
       "    <tr>\n",
       "      <th>4</th>\n",
       "      <td>5</td>\n",
       "      <td>1</td>\n",
       "      <td>437.05</td>\n",
       "    </tr>\n",
       "  </tbody>\n",
       "</table>\n",
       "</div>"
      ],
      "text/plain": [
       "   employee_id  qtr   sales\n",
       "0            1    1  768.17\n",
       "1            2    1  391.98\n",
       "2            3    1  406.36\n",
       "3            4    1  816.25\n",
       "4            5    1  437.05"
      ]
     },
     "execution_count": 34,
     "metadata": {},
     "output_type": "execute_result"
    }
   ],
   "source": [
    "# sales table\n",
    "wr.athena.read_sql_query(\n",
    "    f\"SELECT * FROM {db_name}.sales\",\n",
    "    database=db_name,\n",
    "    ctas_approach=False\n",
    ").head()"
   ]
  },
  {
   "cell_type": "code",
   "execution_count": 35,
   "metadata": {},
   "outputs": [
    {
     "data": {
      "text/html": [
       "<div>\n",
       "<style scoped>\n",
       "    .dataframe tbody tr th:only-of-type {\n",
       "        vertical-align: middle;\n",
       "    }\n",
       "\n",
       "    .dataframe tbody tr th {\n",
       "        vertical-align: top;\n",
       "    }\n",
       "\n",
       "    .dataframe thead th {\n",
       "        text-align: right;\n",
       "    }\n",
       "</style>\n",
       "<table border=\"1\" class=\"dataframe\">\n",
       "  <thead>\n",
       "    <tr style=\"text-align: right;\">\n",
       "      <th></th>\n",
       "      <th>department_id</th>\n",
       "      <th>department_name</th>\n",
       "    </tr>\n",
       "  </thead>\n",
       "  <tbody>\n",
       "    <tr>\n",
       "      <th>0</th>\n",
       "      <td>1</td>\n",
       "      <td>Sales</td>\n",
       "    </tr>\n",
       "    <tr>\n",
       "      <th>1</th>\n",
       "      <td>2</td>\n",
       "      <td>Admin</td>\n",
       "    </tr>\n",
       "    <tr>\n",
       "      <th>2</th>\n",
       "      <td>3</td>\n",
       "      <td>Management</td>\n",
       "    </tr>\n",
       "    <tr>\n",
       "      <th>3</th>\n",
       "      <td>4</td>\n",
       "      <td>Technical</td>\n",
       "    </tr>\n",
       "    <tr>\n",
       "      <th>4</th>\n",
       "      <td>5</td>\n",
       "      <td>Maintenance</td>\n",
       "    </tr>\n",
       "  </tbody>\n",
       "</table>\n",
       "</div>"
      ],
      "text/plain": [
       "   department_id department_name\n",
       "0              1           Sales\n",
       "1              2           Admin\n",
       "2              3      Management\n",
       "3              4       Technical\n",
       "4              5     Maintenance"
      ]
     },
     "execution_count": 35,
     "metadata": {},
     "output_type": "execute_result"
    }
   ],
   "source": [
    "# department table\n",
    "wr.athena.read_sql_query(\n",
    "    f\"SELECT * FROM {db_name}.department\",\n",
    "    database=db_name,\n",
    "    ctas_approach=False\n",
    ").head()"
   ]
  },
  {
   "cell_type": "code",
   "execution_count": null,
   "metadata": {},
   "outputs": [],
   "source": []
  }
 ],
 "metadata": {
  "kernelspec": {
   "display_name": "Python 3",
   "language": "python",
   "name": "python3"
  },
  "language_info": {
   "codemirror_mode": {
    "name": "ipython",
    "version": 3
   },
   "file_extension": ".py",
   "mimetype": "text/x-python",
   "name": "python",
   "nbconvert_exporter": "python",
   "pygments_lexer": "ipython3",
   "version": "3.8.3"
  }
 },
 "nbformat": 4,
 "nbformat_minor": 4
}
